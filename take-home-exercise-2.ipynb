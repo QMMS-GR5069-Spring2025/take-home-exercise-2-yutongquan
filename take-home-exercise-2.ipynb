{
 "cells": [
  {
   "cell_type": "code",
   "execution_count": 0,
   "metadata": {
    "application/vnd.databricks.v1+cell": {
     "cellMetadata": {
      "byteLimit": 2048000,
      "rowLimit": 10000
     },
     "inputWidgets": {},
     "nuid": "278e5102-2a20-42ed-a905-a92e546afaaa",
     "showTitle": false,
     "tableResultSettingsMap": {},
     "title": ""
    }
   },
   "outputs": [],
   "source": [
    "from pyspark.sql import functions as F\n",
    "from pyspark.sql.window import Window"
   ]
  },
  {
   "cell_type": "code",
   "execution_count": 0,
   "metadata": {
    "application/vnd.databricks.v1+cell": {
     "cellMetadata": {
      "byteLimit": 2048000,
      "rowLimit": 10000
     },
     "inputWidgets": {},
     "nuid": "fb1fc1ce-16bc-46dd-b456-6830b0162541",
     "showTitle": false,
     "tableResultSettingsMap": {},
     "title": ""
    }
   },
   "outputs": [],
   "source": [
    "df_pit_stops = spark.read.csv('s3://columbia-gr5069-main/raw/pit_stops.csv', header = True)\n",
    "df_drivers = spark.read.csv('s3://columbia-gr5069-main/raw/drivers.csv', header = True)\n",
    "df_results = spark.read.csv('s3://columbia-gr5069-main/raw/results.csv', header = True)\n",
    "df_races= spark.read.csv('s3://columbia-gr5069-main/raw/races.csv', header = True)\n",
    "df_status = spark.read.csv('s3://columbia-gr5069-main/raw/status.csv', header = True)\n",
    "df_constructors = spark.read.csv('s3://columbia-gr5069-main/raw/constructors.csv', header = True)"
   ]
  },
  {
   "cell_type": "markdown",
   "metadata": {
    "application/vnd.databricks.v1+cell": {
     "cellMetadata": {},
     "inputWidgets": {},
     "nuid": "6de6c7e4-4a82-4de7-b4a4-aca65842f6ae",
     "showTitle": false,
     "tableResultSettingsMap": {},
     "title": ""
    }
   },
   "source": [
    "### 1. What was the average time each driver spent at the pit stop for each race?"
   ]
  },
  {
   "cell_type": "code",
   "execution_count": 0,
   "metadata": {
    "application/vnd.databricks.v1+cell": {
     "cellMetadata": {
      "byteLimit": 2048000,
      "rowLimit": 10000
     },
     "inputWidgets": {},
     "nuid": "7606e31c-588e-4798-ae8d-ded2b15e3843",
     "showTitle": false,
     "tableResultSettingsMap": {},
     "title": ""
    }
   },
   "outputs": [],
   "source": [
    "display(df_pit_stops.limit(10))"
   ]
  },
  {
   "cell_type": "code",
   "execution_count": 0,
   "metadata": {
    "application/vnd.databricks.v1+cell": {
     "cellMetadata": {
      "byteLimit": 2048000,
      "rowLimit": 10000
     },
     "inputWidgets": {},
     "nuid": "b16353f9-bb2b-41ce-9a89-bfbbba0c19f1",
     "showTitle": false,
     "tableResultSettingsMap": {},
     "title": ""
    }
   },
   "outputs": [],
   "source": [
    "avg_pit_stop_times = df_pit_stops.groupBy(\"raceId\", \"driverId\") \\\n",
    "                              .agg(\n",
    "                                  F.avg(\"duration\").alias(\"avg_duration\"),\n",
    "                                  F.avg(\"milliseconds\").alias(\"avg_milliseconds\"),\n",
    "                                  F.count(\"stop\").alias(\"num_pit_stops\")\n",
    "                              ) \\\n",
    "                              .orderBy(F.col(\"raceId\").cast(\"int\"), \"avg_milliseconds\")\n",
    "\n",
    "display(avg_pit_stop_times.limit(10))"
   ]
  },
  {
   "cell_type": "markdown",
   "metadata": {
    "application/vnd.databricks.v1+cell": {
     "cellMetadata": {},
     "inputWidgets": {},
     "nuid": "25eb5109-7434-4bfe-8028-27ba75570507",
     "showTitle": false,
     "tableResultSettingsMap": {},
     "title": ""
    }
   },
   "source": [
    "### 2. Rank the average time spent at the pit stop in order of who won each race"
   ]
  },
  {
   "cell_type": "code",
   "execution_count": 0,
   "metadata": {
    "application/vnd.databricks.v1+cell": {
     "cellMetadata": {
      "byteLimit": 2048000,
      "rowLimit": 10000
     },
     "inputWidgets": {},
     "nuid": "af4a1c95-f7dc-418d-8e8b-1dd2f8a0fe50",
     "showTitle": false,
     "tableResultSettingsMap": {},
     "title": ""
    }
   },
   "outputs": [],
   "source": [
    "display(df_results.limit(10))"
   ]
  },
  {
   "cell_type": "code",
   "execution_count": 0,
   "metadata": {
    "application/vnd.databricks.v1+cell": {
     "cellMetadata": {
      "byteLimit": 2048000,
      "rowLimit": 10000
     },
     "inputWidgets": {},
     "nuid": "5da92935-98ae-4474-98d6-bba9633c9d46",
     "showTitle": false,
     "tableResultSettingsMap": {},
     "title": ""
    }
   },
   "outputs": [],
   "source": [
    "avg_pit_stop_times = df_pit_stops.groupBy(\"raceId\", \"driverId\") \\\n",
    "                          .agg(\n",
    "                              F.avg(\"duration\").alias(\"avg_duration\"),\n",
    "                              F.avg(\"milliseconds\").alias(\"avg_milliseconds\"),\n",
    "                              F.count(\"stop\").alias(\"num_pit_stops\")\n",
    "                          )\n",
    "\n",
    "pit_stops_with_results = avg_pit_stop_times.join(\n",
    "    df_results.select(\"raceId\", \"driverId\", \"position\", \"positionText\", \"positionOrder\"),\n",
    "    on=[\"raceId\", \"driverId\"],\n",
    "    how=\"inner\"\n",
    ")\n",
    "\n",
    "pit_stops_with_results = pit_stops_with_results.withColumn(\n",
    "    \"finished_race\",\n",
    "    F.when((F.col(\"positionText\") != \"R\") & (F.col(\"position\").isNotNull()), True).otherwise(False)\n",
    ")\n",
    "\n",
    "ranked_pit_stops = pit_stops_with_results.orderBy(\n",
    "    F.col(\"raceId\").cast(\"int\"),\n",
    "    F.col(\"positionOrder\").cast(\"int\")\n",
    ")\n",
    "\n",
    "display(ranked_pit_stops.limit(10))"
   ]
  },
  {
   "cell_type": "markdown",
   "metadata": {
    "application/vnd.databricks.v1+cell": {
     "cellMetadata": {},
     "inputWidgets": {},
     "nuid": "9fbdf93e-779c-4c29-a450-211d22b3c86d",
     "showTitle": false,
     "tableResultSettingsMap": {},
     "title": ""
    }
   },
   "source": [
    "**My approach to handling drivers who did not finish the race:**\n",
    "1. I created a boolean column finished_race that identifies drivers who finished (position is not null and positionText is not \"R\") versus those who didn't finish.\n",
    "2. I included both finishers and non-finishers in the main analysis, keeping them ordered by their positionOrder value, which ensures that even non-finishers are ranked correctly based on how far they progressed in the race before retiring."
   ]
  },
  {
   "cell_type": "markdown",
   "metadata": {
    "application/vnd.databricks.v1+cell": {
     "cellMetadata": {},
     "inputWidgets": {},
     "nuid": "14bdaa4a-aac9-4e61-85b3-96e3b144779c",
     "showTitle": false,
     "tableResultSettingsMap": {},
     "title": ""
    }
   },
   "source": [
    "### 3. Insert the missing code (e.g: ALO for Alonso) for drivers based on the 'drivers' dataset"
   ]
  },
  {
   "cell_type": "code",
   "execution_count": 0,
   "metadata": {
    "application/vnd.databricks.v1+cell": {
     "cellMetadata": {
      "byteLimit": 2048000,
      "rowLimit": 10000
     },
     "inputWidgets": {},
     "nuid": "0b0f28e2-a120-44c7-a006-a595668107ee",
     "showTitle": false,
     "tableResultSettingsMap": {},
     "title": ""
    }
   },
   "outputs": [],
   "source": [
    "display(df_drivers.limit(10))"
   ]
  },
  {
   "cell_type": "markdown",
   "metadata": {
    "application/vnd.databricks.v1+cell": {
     "cellMetadata": {},
     "inputWidgets": {},
     "nuid": "66edb975-3aa7-4cc4-bab0-1ce2efdbafdd",
     "showTitle": false,
     "tableResultSettingsMap": {},
     "title": ""
    }
   },
   "source": [
    "### 4. Who is the youngest and oldest driver for each race? Create a new column called “Age”"
   ]
  },
  {
   "cell_type": "code",
   "execution_count": 0,
   "metadata": {
    "application/vnd.databricks.v1+cell": {
     "cellMetadata": {},
     "inputWidgets": {},
     "nuid": "e83dd993-9502-4a48-9b12-7efdb1e2b9d7",
     "showTitle": false,
     "tableResultSettingsMap": {},
     "title": ""
    }
   },
   "outputs": [],
   "source": []
  },
  {
   "cell_type": "markdown",
   "metadata": {
    "application/vnd.databricks.v1+cell": {
     "cellMetadata": {},
     "inputWidgets": {},
     "nuid": "6a7242d9-ccbb-4a30-8f15-d08f764bc3b4",
     "showTitle": false,
     "tableResultSettingsMap": {},
     "title": ""
    }
   },
   "source": [
    "### 5. For a given race, which driver has the most wins and losses?"
   ]
  },
  {
   "cell_type": "code",
   "execution_count": 0,
   "metadata": {
    "application/vnd.databricks.v1+cell": {
     "cellMetadata": {},
     "inputWidgets": {},
     "nuid": "d40c1ac5-78f5-480d-89e7-bef93dc59b06",
     "showTitle": false,
     "tableResultSettingsMap": {},
     "title": ""
    }
   },
   "outputs": [],
   "source": []
  },
  {
   "cell_type": "markdown",
   "metadata": {
    "application/vnd.databricks.v1+cell": {
     "cellMetadata": {},
     "inputWidgets": {},
     "nuid": "268afc64-5534-4819-bff6-7cb060070d3f",
     "showTitle": false,
     "tableResultSettingsMap": {},
     "title": ""
    }
   },
   "source": [
    "### 6. Continue exploring the data by answering your own question."
   ]
  },
  {
   "cell_type": "code",
   "execution_count": 0,
   "metadata": {
    "application/vnd.databricks.v1+cell": {
     "cellMetadata": {},
     "inputWidgets": {},
     "nuid": "940edd4a-c266-48a8-862e-0462941854f6",
     "showTitle": false,
     "tableResultSettingsMap": {},
     "title": ""
    }
   },
   "outputs": [],
   "source": []
  }
 ],
 "metadata": {
  "application/vnd.databricks.v1+notebook": {
   "computePreferences": null,
   "dashboards": [],
   "environmentMetadata": {
    "base_environment": "",
    "environment_version": "2"
   },
   "language": "python",
   "notebookMetadata": {
    "pythonIndentUnit": 4
   },
   "notebookName": "take-home-exercise-2",
   "widgets": {}
  },
  "language_info": {
   "name": "python"
  }
 },
 "nbformat": 4,
 "nbformat_minor": 0
}
