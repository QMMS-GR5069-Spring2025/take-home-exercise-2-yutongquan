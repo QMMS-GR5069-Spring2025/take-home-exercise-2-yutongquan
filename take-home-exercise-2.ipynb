{
 "cells": [
  {
   "cell_type": "code",
   "execution_count": 0,
   "metadata": {
    "application/vnd.databricks.v1+cell": {
     "cellMetadata": {
      "byteLimit": 2048000,
      "rowLimit": 10000
     },
     "inputWidgets": {},
     "nuid": "278e5102-2a20-42ed-a905-a92e546afaaa",
     "showTitle": false,
     "tableResultSettingsMap": {},
     "title": ""
    }
   },
   "outputs": [],
   "source": [
    "from pyspark.sql import functions as F\n",
    "from pyspark.sql.window import Window"
   ]
  },
  {
   "cell_type": "code",
   "execution_count": 0,
   "metadata": {
    "application/vnd.databricks.v1+cell": {
     "cellMetadata": {
      "byteLimit": 2048000,
      "rowLimit": 10000
     },
     "inputWidgets": {},
     "nuid": "fb1fc1ce-16bc-46dd-b456-6830b0162541",
     "showTitle": false,
     "tableResultSettingsMap": {},
     "title": ""
    }
   },
   "outputs": [],
   "source": [
    "df_pit_stops = spark.read.csv('s3://columbia-gr5069-main/raw/pit_stops.csv', header = True)\n",
    "df_results = spark.read.csv('s3://columbia-gr5069-main/raw/results.csv', header = True)\n",
    "df_drivers = spark.read.csv('s3://columbia-gr5069-main/raw/drivers.csv', header = True)\n",
    "df_races= spark.read.csv('s3://columbia-gr5069-main/raw/races.csv', header = True)"
   ]
  },
  {
   "cell_type": "markdown",
   "metadata": {
    "application/vnd.databricks.v1+cell": {
     "cellMetadata": {
      "byteLimit": 2048000,
      "rowLimit": 10000
     },
     "inputWidgets": {},
     "nuid": "6de6c7e4-4a82-4de7-b4a4-aca65842f6ae",
     "showTitle": false,
     "tableResultSettingsMap": {},
     "title": ""
    }
   },
   "source": [
    "### 1. What was the average time each driver spent at the pit stop for each race?"
   ]
  },
  {
   "cell_type": "code",
   "execution_count": 0,
   "metadata": {
    "application/vnd.databricks.v1+cell": {
     "cellMetadata": {
      "byteLimit": 2048000,
      "rowLimit": 10000
     },
     "inputWidgets": {},
     "nuid": "7606e31c-588e-4798-ae8d-ded2b15e3843",
     "showTitle": false,
     "tableResultSettingsMap": {},
     "title": ""
    }
   },
   "outputs": [],
   "source": [
    "display(df_pit_stops.limit(10))"
   ]
  },
  {
   "cell_type": "code",
   "execution_count": 0,
   "metadata": {
    "application/vnd.databricks.v1+cell": {
     "cellMetadata": {
      "byteLimit": 2048000,
      "rowLimit": 10000
     },
     "inputWidgets": {},
     "nuid": "b16353f9-bb2b-41ce-9a89-bfbbba0c19f1",
     "showTitle": false,
     "tableResultSettingsMap": {},
     "title": ""
    }
   },
   "outputs": [],
   "source": [
    "avg_pit_stop_times = df_pit_stops.groupBy(\"raceId\", \"driverId\") \\\n",
    "                              .agg(\n",
    "                                  F.avg(\"duration\").alias(\"avg_duration\"),\n",
    "                                  F.avg(\"milliseconds\").alias(\"avg_milliseconds\"),\n",
    "                                  F.count(\"stop\").alias(\"num_pit_stops\")\n",
    "                              ) \\\n",
    "                              .orderBy(F.col(\"raceId\").cast(\"int\"), \"avg_milliseconds\")\n",
    "\n",
    "display(avg_pit_stop_times.limit(10))"
   ]
  },
  {
   "cell_type": "markdown",
   "metadata": {
    "application/vnd.databricks.v1+cell": {
     "cellMetadata": {
      "byteLimit": 2048000,
      "rowLimit": 10000
     },
     "inputWidgets": {},
     "nuid": "25eb5109-7434-4bfe-8028-27ba75570507",
     "showTitle": false,
     "tableResultSettingsMap": {},
     "title": ""
    }
   },
   "source": [
    "### 2. Rank the average time spent at the pit stop in order of who won each race"
   ]
  },
  {
   "cell_type": "code",
   "execution_count": 0,
   "metadata": {
    "application/vnd.databricks.v1+cell": {
     "cellMetadata": {
      "byteLimit": 2048000,
      "rowLimit": 10000
     },
     "inputWidgets": {},
     "nuid": "af4a1c95-f7dc-418d-8e8b-1dd2f8a0fe50",
     "showTitle": false,
     "tableResultSettingsMap": {},
     "title": ""
    }
   },
   "outputs": [],
   "source": [
    "display(df_results.limit(10))"
   ]
  },
  {
   "cell_type": "code",
   "execution_count": 0,
   "metadata": {
    "application/vnd.databricks.v1+cell": {
     "cellMetadata": {
      "byteLimit": 2048000,
      "rowLimit": 10000
     },
     "inputWidgets": {},
     "nuid": "5da92935-98ae-4474-98d6-bba9633c9d46",
     "showTitle": false,
     "tableResultSettingsMap": {},
     "title": ""
    }
   },
   "outputs": [],
   "source": [
    "avg_pit_stop_times = df_pit_stops.groupBy(\"raceId\", \"driverId\") \\\n",
    "                          .agg(\n",
    "                              F.avg(\"duration\").alias(\"avg_duration\"),\n",
    "                              F.avg(\"milliseconds\").alias(\"avg_milliseconds\"),\n",
    "                              F.count(\"stop\").alias(\"num_pit_stops\")\n",
    "                          )\n",
    "\n",
    "pit_stops_with_results = avg_pit_stop_times.join(\n",
    "    df_results.select(\"raceId\", \"driverId\", \"position\", \"positionText\", \"positionOrder\"),\n",
    "    on=[\"raceId\", \"driverId\"],\n",
    "    how=\"inner\"\n",
    ")\n",
    "\n",
    "pit_stops_with_results = pit_stops_with_results.withColumn(\n",
    "    \"finished_race\",\n",
    "    F.when((F.col(\"positionText\") != \"R\") & (F.col(\"position\").isNotNull()), True).otherwise(False)\n",
    ")\n",
    "\n",
    "ranked_pit_stops = pit_stops_with_results.orderBy(\n",
    "    F.col(\"raceId\").cast(\"int\"),\n",
    "    F.col(\"positionOrder\").cast(\"int\")\n",
    ")\n",
    "\n",
    "display(ranked_pit_stops.limit(10))"
   ]
  },
  {
   "cell_type": "markdown",
   "metadata": {
    "application/vnd.databricks.v1+cell": {
     "cellMetadata": {
      "byteLimit": 2048000,
      "rowLimit": 10000
     },
     "inputWidgets": {},
     "nuid": "9fbdf93e-779c-4c29-a450-211d22b3c86d",
     "showTitle": false,
     "tableResultSettingsMap": {},
     "title": ""
    }
   },
   "source": [
    "**My approach to handling drivers who did not finish the race:**\n",
    "1. I created a boolean column finished_race that identifies drivers who finished (position is not null and positionText is not \"R\") versus those who didn't finish.\n",
    "2. I included both finishers and non-finishers in the main analysis, keeping them ordered by their positionOrder value, which ensures that even non-finishers are ranked correctly based on how far they progressed in the race before retiring."
   ]
  },
  {
   "cell_type": "markdown",
   "metadata": {
    "application/vnd.databricks.v1+cell": {
     "cellMetadata": {
      "byteLimit": 2048000,
      "rowLimit": 10000
     },
     "inputWidgets": {},
     "nuid": "14bdaa4a-aac9-4e61-85b3-96e3b144779c",
     "showTitle": false,
     "tableResultSettingsMap": {},
     "title": ""
    }
   },
   "source": [
    "### 3. Insert the missing code (e.g: ALO for Alonso) for drivers based on the 'drivers' dataset"
   ]
  },
  {
   "cell_type": "code",
   "execution_count": 0,
   "metadata": {
    "application/vnd.databricks.v1+cell": {
     "cellMetadata": {
      "byteLimit": 2048000,
      "rowLimit": 10000
     },
     "inputWidgets": {},
     "nuid": "0b0f28e2-a120-44c7-a006-a595668107ee",
     "showTitle": false,
     "tableResultSettingsMap": {},
     "title": ""
    }
   },
   "outputs": [],
   "source": [
    "display(df_drivers.limit(10))"
   ]
  },
  {
   "cell_type": "code",
   "execution_count": 0,
   "metadata": {
    "application/vnd.databricks.v1+cell": {
     "cellMetadata": {
      "byteLimit": 2048000,
      "rowLimit": 10000
     },
     "inputWidgets": {},
     "nuid": "406b6615-ea8e-4dfb-b087-9a159f8cad2d",
     "showTitle": false,
     "tableResultSettingsMap": {},
     "title": ""
    }
   },
   "outputs": [],
   "source": [
    "df_drivers_clean = df_drivers.na.replace('\\\\N', None)\n",
    "\n",
    "generate_code_udf = F.udf(lambda surname: surname[:3].upper() if surname else None)\n",
    "\n",
    "df_drivers_with_codes = df_drivers_clean.withColumn(\n",
    "    \"code\",\n",
    "    F.when(F.col(\"code\").isNull(), generate_code_udf(F.col(\"surname\"))).otherwise(F.col(\"code\"))\n",
    ")\n",
    "\n",
    "display(df_drivers_with_codes.limit(20))"
   ]
  },
  {
   "cell_type": "markdown",
   "metadata": {
    "application/vnd.databricks.v1+cell": {
     "cellMetadata": {
      "byteLimit": 2048000,
      "rowLimit": 10000
     },
     "inputWidgets": {},
     "nuid": "2af86228-bdcb-498a-9ee7-1ae47869271c",
     "showTitle": false,
     "tableResultSettingsMap": {},
     "title": ""
    }
   },
   "source": [
    "**Method for generating missing driver codes:**\n",
    "1. First, I ensure that the '\\\\N' character is correctly recognized as NULL value\n",
    "2. Then, for drivers missing codes, I directly extract the first three letters from their surname and convert to uppercase as the code"
   ]
  },
  {
   "cell_type": "markdown",
   "metadata": {
    "application/vnd.databricks.v1+cell": {
     "cellMetadata": {
      "byteLimit": 2048000,
      "rowLimit": 10000
     },
     "inputWidgets": {},
     "nuid": "66edb975-3aa7-4cc4-bab0-1ce2efdbafdd",
     "showTitle": false,
     "tableResultSettingsMap": {},
     "title": ""
    }
   },
   "source": [
    "### 4. Who is the youngest and oldest driver for each race? Create a new column called “Age”"
   ]
  },
  {
   "cell_type": "code",
   "execution_count": 0,
   "metadata": {
    "application/vnd.databricks.v1+cell": {
     "cellMetadata": {
      "byteLimit": 2048000,
      "rowLimit": 10000
     },
     "inputWidgets": {},
     "nuid": "e83dd993-9502-4a48-9b12-7efdb1e2b9d7",
     "showTitle": false,
     "tableResultSettingsMap": {},
     "title": ""
    }
   },
   "outputs": [],
   "source": [
    "display(df_races.limit(10))"
   ]
  },
  {
   "cell_type": "code",
   "execution_count": 0,
   "metadata": {
    "application/vnd.databricks.v1+cell": {
     "cellMetadata": {
      "byteLimit": 2048000,
      "rowLimit": 10000
     },
     "inputWidgets": {},
     "nuid": "8a262b3c-1af8-4da3-888d-863f446d1f5f",
     "showTitle": false,
     "tableResultSettingsMap": {},
     "title": ""
    }
   },
   "outputs": [],
   "source": [
    "race_results = df_results.join(df_races, on=\"raceId\")\n",
    "\n",
    "driver_race_data = race_results.join(df_drivers, on=\"driverId\")\n",
    "\n",
    "driver_race_data = driver_race_data.withColumn(\n",
    "    \"Age\", \n",
    "    F.floor(F.months_between(F.to_date(\"date\"), F.to_date(\"dob\")) / 12)\n",
    ")\n",
    "\n",
    "window_youngest = Window.partitionBy(\"raceId\").orderBy(\"Age\")\n",
    "window_oldest = Window.partitionBy(\"raceId\").orderBy(F.desc(\"Age\"))\n",
    "\n",
    "youngest_drivers = driver_race_data.withColumn(\n",
    "    \"row_number\", F.row_number().over(window_youngest)\n",
    ").filter(F.col(\"row_number\") == 1).select(\n",
    "    \"raceId\", \n",
    "    \"year\", \n",
    "    \"name\",\n",
    "    F.col(\"driverId\").alias(\"youngest_driverId\"),\n",
    "    F.concat(F.col(\"forename\"), F.lit(\" \"), F.col(\"surname\")).alias(\"youngest_driver\"),\n",
    "    F.col(\"Age\").alias(\"youngest_age\")\n",
    ")\n",
    "\n",
    "oldest_drivers = driver_race_data.withColumn(\n",
    "    \"row_number\", F.row_number().over(window_oldest)\n",
    ").filter(F.col(\"row_number\") == 1).select(\n",
    "    \"raceId\", \n",
    "    F.col(\"driverId\").alias(\"oldest_driverId\"),\n",
    "    F.concat(F.col(\"forename\"), F.lit(\" \"), F.col(\"surname\")).alias(\"oldest_driver\"),\n",
    "    F.col(\"Age\").alias(\"oldest_age\")\n",
    ")\n",
    "\n",
    "age_analysis = youngest_drivers.join(\n",
    "    oldest_drivers, \n",
    "    on=\"raceId\"\n",
    ").select(\n",
    "    \"raceId\", \n",
    "    \"year\", \n",
    "    \"name\", \n",
    "    \"youngest_driverId\",\n",
    "    \"youngest_driver\", \n",
    "    \"youngest_age\", \n",
    "    \"oldest_driverId\",\n",
    "    \"oldest_driver\", \n",
    "    \"oldest_age\"\n",
    ")\n",
    "\n",
    "display(age_analysis.orderBy(F.col(\"raceId\").cast(\"int\")).limit(20))"
   ]
  },
  {
   "cell_type": "markdown",
   "metadata": {
    "application/vnd.databricks.v1+cell": {
     "cellMetadata": {
      "byteLimit": 2048000,
      "rowLimit": 10000
     },
     "inputWidgets": {},
     "nuid": "bf88a6fc-7fe8-43c9-b829-587c3229e608",
     "showTitle": false,
     "tableResultSettingsMap": {},
     "title": ""
    }
   },
   "source": [
    "**How the Age calculation works:**\n",
    "1. We calculate the age of each driver at the time of each race by:    \n",
    "- Taking the difference between the race date and driver birth date in     \n",
    "- Dividing by 12 to convert     \n",
    "- Using floor() to get the integer value (representing completed years of life)\n",
    "2. We then find the minimum and maximum ages for each race to identify the youngest and oldest drivers."
   ]
  },
  {
   "cell_type": "markdown",
   "metadata": {
    "application/vnd.databricks.v1+cell": {
     "cellMetadata": {
      "byteLimit": 2048000,
      "rowLimit": 10000
     },
     "inputWidgets": {},
     "nuid": "6a7242d9-ccbb-4a30-8f15-d08f764bc3b4",
     "showTitle": false,
     "tableResultSettingsMap": {},
     "title": ""
    }
   },
   "source": [
    "### 5. For a given race, which driver has the most wins and losses?"
   ]
  },
  {
   "cell_type": "code",
   "execution_count": 0,
   "metadata": {
    "application/vnd.databricks.v1+cell": {
     "cellMetadata": {
      "byteLimit": 2048000,
      "rowLimit": 10000
     },
     "inputWidgets": {},
     "nuid": "8295e2e5-de49-4ca0-af6d-6a290c1ae893",
     "showTitle": false,
     "tableResultSettingsMap": {},
     "title": ""
    }
   },
   "outputs": [],
   "source": [
    "df_race_results = df_results.withColumn(\n",
    "    \"is_win\", F.when(F.col(\"position\") == 1, 1).otherwise(0)\n",
    ").withColumn(\n",
    "    \"is_loss\", F.when((F.col(\"position\").isNotNull()) & (F.col(\"position\") != 1), 1).otherwise(0)\n",
    ")\n",
    "\n",
    "df_races_dated = df_races.select(\"raceId\", \"name\", \"date\").orderBy(\"date\")\n",
    "df_results_dated = df_race_results.join(df_races_dated, on=\"raceId\")\n",
    "\n",
    "df_prior_races = df_results_dated.alias(\"current\").join(\n",
    "    df_results_dated.alias(\"prior\"),\n",
    "    (F.col(\"current.driverId\") == F.col(\"prior.driverId\")) & \n",
    "    (F.col(\"prior.date\") < F.col(\"current.date\")),\n",
    "    \"left\"\n",
    ")\n",
    "\n",
    "df_driver_stats = df_prior_races.groupBy(\n",
    "    \"current.raceId\", \"current.driverId\"\n",
    ").agg(\n",
    "    F.sum(\"prior.is_win\").alias(\"prev_wins\"),\n",
    "    F.sum(\"prior.is_loss\").alias(\"prev_losses\")\n",
    ")\n",
    "\n",
    "window_wins = Window.partitionBy(\"raceId\").orderBy(F.desc(\"prev_wins\"))\n",
    "window_losses = Window.partitionBy(\"raceId\").orderBy(F.desc(\"prev_losses\"))\n",
    "\n",
    "df_ranked = df_driver_stats.withColumn(\n",
    "    \"win_rank\", F.row_number().over(window_wins)\n",
    ").withColumn(\n",
    "    \"loss_rank\", F.row_number().over(window_losses)\n",
    ")\n",
    "\n",
    "df_most_wins = df_ranked.filter(F.col(\"win_rank\") == 1).select(\n",
    "    \"raceId\", \n",
    "    F.col(\"driverId\").alias(\"wins_driver_id\"),\n",
    "    F.col(\"prev_wins\").alias(\"wins_count\")\n",
    ")\n",
    "\n",
    "df_most_losses = df_ranked.filter(F.col(\"loss_rank\") == 1).select(\n",
    "    \"raceId\", \n",
    "    F.col(\"driverId\").alias(\"losses_driver_id\"),\n",
    "    F.col(\"prev_losses\").alias(\"losses_count\")\n",
    ")\n",
    "\n",
    "df_drivers_wins = df_drivers.alias(\"drivers_wins\")\n",
    "df_drivers_losses = df_drivers.alias(\"drivers_losses\")\n",
    "\n",
    "final_results = df_most_wins.join(\n",
    "    df_most_losses, \n",
    "    on=\"raceId\", \n",
    "    how=\"full_outer\"\n",
    ").join(\n",
    "    df_drivers_wins.select(\n",
    "        F.col(\"driverId\"),\n",
    "        F.concat(F.col(\"forename\"), F.lit(\" \"), F.col(\"surname\")).alias(\"wins_driver_name\")\n",
    "    ),\n",
    "    F.col(\"wins_driver_id\") == df_drivers_wins.driverId,\n",
    "    \"left\"\n",
    ").join(\n",
    "    df_drivers_losses.select(\n",
    "        F.col(\"driverId\"),\n",
    "        F.concat(F.col(\"forename\"), F.lit(\" \"), F.col(\"surname\")).alias(\"losses_driver_name\")\n",
    "    ),\n",
    "    F.col(\"losses_driver_id\") == df_drivers_losses.driverId,\n",
    "    \"left\"\n",
    ").join(\n",
    "    df_races_dated.select(\"raceId\", \"name\"),\n",
    "    on=\"raceId\",\n",
    "    how=\"left\"\n",
    ").select(\n",
    "    \"raceId\",\n",
    "    \"name\",\n",
    "    \"wins_driver_name\",\n",
    "    \"wins_count\",\n",
    "    \"losses_driver_name\",\n",
    "    \"losses_count\"\n",
    ")\n",
    "\n",
    "display(final_results.orderBy(F.col(\"raceId\").cast(\"int\")).limit(20))"
   ]
  },
  {
   "cell_type": "markdown",
   "metadata": {
    "application/vnd.databricks.v1+cell": {
     "cellMetadata": {
      "byteLimit": 2048000,
      "rowLimit": 10000
     },
     "inputWidgets": {},
     "nuid": "268afc64-5534-4819-bff6-7cb060070d3f",
     "showTitle": false,
     "tableResultSettingsMap": {},
     "title": ""
    }
   },
   "source": [
    "### 6. My Question: Which country's drivers have won the most races?"
   ]
  },
  {
   "cell_type": "code",
   "execution_count": 0,
   "metadata": {
    "application/vnd.databricks.v1+cell": {
     "cellMetadata": {
      "byteLimit": 2048000,
      "rowLimit": 10000
     },
     "inputWidgets": {},
     "nuid": "940edd4a-c266-48a8-862e-0462941854f6",
     "showTitle": false,
     "tableResultSettingsMap": {},
     "title": ""
    }
   },
   "outputs": [],
   "source": [
    "winning_results = df_results.filter(F.col(\"position\") == 1)\n",
    "\n",
    "winning_drivers = winning_results.join(df_drivers, on=\"driverId\")\n",
    "\n",
    "wins_by_nationality = winning_drivers.groupBy(\"nationality\").agg(\n",
    "    F.count(\"resultId\").alias(\"total_wins\")\n",
    ")\n",
    "\n",
    "display(wins_by_nationality.orderBy(F.col(\"total_wins\").desc()))"
   ]
  },
  {
   "cell_type": "markdown",
   "metadata": {
    "application/vnd.databricks.v1+cell": {
     "cellMetadata": {
      "byteLimit": 2048000,
      "rowLimit": 10000
     },
     "inputWidgets": {},
     "nuid": "99e39e39-7101-44ae-96ec-1fdf2ed5a8a8",
     "showTitle": false,
     "tableResultSettingsMap": {},
     "title": ""
    }
   },
   "source": [
    "This analysis reveals that **British** drivers have dominated Formula 1 with 309 race wins significantly ahead of **German** (179) and **Brazilian** (101) drivers. **_European nations_** comprise most of the top positions, though several non-European countries like **Brazil**, **Australia**, and **Argentina** have also made significant contributions to F1 racing history."
   ]
  }
 ],
 "metadata": {
  "application/vnd.databricks.v1+notebook": {
   "computePreferences": null,
   "dashboards": [],
   "environmentMetadata": {
    "base_environment": "",
    "environment_version": "2"
   },
   "language": "python",
   "notebookMetadata": {
    "pythonIndentUnit": 4
   },
   "notebookName": "take-home-exercise-2",
   "widgets": {}
  },
  "language_info": {
   "name": "python"
  }
 },
 "nbformat": 4,
 "nbformat_minor": 0
}
